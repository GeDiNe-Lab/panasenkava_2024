{
 "cells": [
  {
   "cell_type": "code",
   "execution_count": 1,
   "metadata": {},
   "outputs": [],
   "source": [
    "import anndata as ad"
   ]
  },
  {
   "cell_type": "code",
   "execution_count": 3,
   "metadata": {},
   "outputs": [],
   "source": [
    "scdata = ad.read_h5ad(\"/home/jules/Documents/phd/projects/panasenkava_2024/scdata/GSE155121_human_data_raw.h5ad\", backed='r')"
   ]
  },
  {
   "cell_type": "code",
   "execution_count": 14,
   "metadata": {},
   "outputs": [
    {
     "data": {
      "text/plain": [
       "index\n",
       "AAACCTGAGAATGTTG-1-0-0-0-0-0-0-0-0-0-0-0-0     W3-1\n",
       "AAACCTGAGCCAGAAC-1-0-0-0-0-0-0-0-0-0-0-0-0     W3-1\n",
       "AAACCTGAGGCAGTCA-1-0-0-0-0-0-0-0-0-0-0-0-0     W3-1\n",
       "AAACCTGAGGGATGGG-1-0-0-0-0-0-0-0-0-0-0-0-0     W3-1\n",
       "AAACCTGAGTGACATA-1-0-0-0-0-0-0-0-0-0-0-0-0     W3-1\n",
       "                                              ...  \n",
       "TTTGTCAGTTCCAACA-5-1                          W12-1\n",
       "TTTGTCAGTTTAAGCC-5-1                          W12-1\n",
       "TTTGTCATCAGCACAT-5-1                          W12-1\n",
       "TTTGTCATCCGCAAGC-5-1                          W12-1\n",
       "TTTGTCATCTTGAGGT-5-1                          W12-1\n",
       "Name: week_stage, Length: 463304, dtype: category\n",
       "Categories (13, object): ['W3-1', 'W4-1', 'W4-2', 'W4-3', ..., 'W8-1', 'W9-1', 'W9-2', 'W12-1']"
      ]
     },
     "execution_count": 14,
     "metadata": {},
     "output_type": "execute_result"
    }
   ],
   "source": [
    "scdata.obs.week_stage\n"
   ]
  }
 ],
 "metadata": {
  "kernelspec": {
   "display_name": "Python 3",
   "language": "python",
   "name": "python3"
  },
  "language_info": {
   "codemirror_mode": {
    "name": "ipython",
    "version": 3
   },
   "file_extension": ".py",
   "mimetype": "text/x-python",
   "name": "python",
   "nbconvert_exporter": "python",
   "pygments_lexer": "ipython3",
   "version": "3.10.12"
  }
 },
 "nbformat": 4,
 "nbformat_minor": 2
}
